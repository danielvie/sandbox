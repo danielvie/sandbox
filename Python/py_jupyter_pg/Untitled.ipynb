{
 "cells": [
  {
   "cell_type": "code",
   "execution_count": 1,
   "id": "238289a3-dda9-4c97-849c-a3c8c9bffeed",
   "metadata": {},
   "outputs": [],
   "source": [
    "import numpy as np\n",
    "import matplotlib.pyplot as plt\n",
    "from matplotlib import rcParams\n",
    "\n",
    "rcParams['grid.alpha'] = .6\n",
    "rcParams['font.family'] = 'monospace'\n",
    "rcParams['figure.figsize'] = [600, 300]"
   ]
  },
  {
   "cell_type": "code",
   "execution_count": 33,
   "id": "90e41e66-add0-4848-b4c5-1dd324b41001",
   "metadata": {},
   "outputs": [
    {
     "data": {
      "image/png": "[encoded data removed]",
      "text/plain": [
       "<Figure size 432x288 with 1 Axes>"
      ]
     },
     "metadata": {
      "needs_background": "light"
     },
     "output_type": "display_data"
    }
   ],
   "source": [
    "N  = 1000\n",
    "R0 = [0.,]*N\n",
    "\n",
    "for _ in range(3000):\n",
    "    R = []\n",
    "    R = np.random.uniform(0., 10., N)\n",
    "    R0 += R\n",
    "\n",
    "plt.hist(R, bins=100);\n",
    "plt.grid(1)"
   ]
  },
  {
   "cell_type": "code",
   "execution_count": null,
   "id": "d772ead6-7231-4502-8a3d-cd897ec11789",
   "metadata": {},
   "outputs": [],
   "source": []
  },
  {
   "cell_type": "code",
   "execution_count": null,
   "id": "c939453d-2df5-4221-a519-fa7fd4f6aed1",
   "metadata": {},
   "outputs": [],
   "source": []
  }
 ],
 "metadata": {
  "kernelspec": {
   "display_name": "Python 3 (ipykernel)",
   "language": "python",
   "name": "python3"
  },
  "language_info": {
   "codemirror_mode": {
    "name": "ipython",
    "version": 3
   },
   "file_extension": ".py",
   "mimetype": "text/x-python",
   "name": "python",
   "nbconvert_exporter": "python",
   "pygments_lexer": "ipython3",
   "version": "3.10.5"
  }
 },
 "nbformat": 4,
 "nbformat_minor": 5
}
