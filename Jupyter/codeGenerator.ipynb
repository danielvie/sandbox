{
 "cells": [
  {
   "cell_type": "code",
   "execution_count": 23,
   "id": "3fd0f0ce-90e1-401c-a3f8-06076ad2aead",
   "metadata": {},
   "outputs": [],
   "source": [
    "params = {\n",
    "    'name': 'daniel'\n",
    "}\n",
    "\n",
    "params2 = {\n",
    "    'names' : [\n",
    "        ['daniel', 'vieira'],\n",
    "        ['danilo', 'vieira'],\n",
    "        ['patricia', 'vieira']\n",
    "    ]\n",
    "}"
   ]
  },
  {
   "cell_type": "code",
   "execution_count": 31,
   "id": "ee98c4b2-9188-4e8b-bd9f-d29f8dbf56fd",
   "metadata": {},
   "outputs": [
    {
     "data": {
      "text/plain": [
       "{'name': 'daniel', 'names_n': 'patricia', 'names_s': 'vieira'}"
      ]
     },
     "execution_count": 31,
     "metadata": {},
     "output_type": "execute_result"
    }
   ],
   "source": [
    "params_ = params.copy()\n",
    "\n",
    "left = ['n', 's']\n",
    "i    = 2\n",
    "\n",
    "# iterating parameter that needs to update\n",
    "for p in params2:\n",
    "    \n",
    "    # treating values for each iteration\n",
    "    if type(params2[p]) == list:\n",
    "        \n",
    "        # iterating parameters break for the FOR LOOP\n",
    "        for ii,l in enumerate(left):\n",
    "            params_[f'{p}_{l}'] = params2[p][i][ii]\n",
    "        continue\n",
    "\n",
    "    # updating values that dont iterate in the FOR LOOP\n",
    "    params_[p] = params2[p]\n",
    "\n",
    "params_"
   ]
  },
  {
   "cell_type": "code",
   "execution_count": 36,
   "id": "74478adc-fd2a-4b01-a906-60f0fe4791e5",
   "metadata": {
    "tags": []
   },
   "outputs": [],
   "source": [
    "N = [\n",
    "    ['Connect', 'bool',''],\n",
    "    ['Disconnect', 'void',''],\n",
    "    ['GetAppCommand', 'int',''],\n",
    "    ['SetAppCommand', 'bool','int command'],\n",
    "    ['GetFirmwareVersion', 'string',''],\n",
    "    ['IsAppStateActive', 'bool',''],\n",
    "    ['IsPowerSupplyStatusOk', 'bool',''],\n",
    "]"
   ]
  },
  {
   "cell_type": "code",
   "execution_count": 37,
   "id": "97600d1e-014d-4081-ac1f-65f6c615a3a2",
   "metadata": {},
   "outputs": [
    {
     "data": {
      "text/plain": [
       "[['Connect', 'bool', '', 'boolean'],\n",
       " ['Disconnect', 'void', '', 'void'],\n",
       " ['GetAppCommand', 'int', '', 'integer'],\n",
       " ['SetAppCommand', 'bool', 'int command', 'boolean'],\n",
       " ['GetFirmwareVersion', 'string', '', 'string'],\n",
       " ['IsAppStateActive', 'bool', '', 'boolean'],\n",
       " ['IsPowerSupplyStatusOk', 'bool', '', 'boolean']]"
      ]
     },
     "execution_count": 37,
     "metadata": {},
     "output_type": "execute_result"
    }
   ],
   "source": [
    "for i,n in enumerate(N):\n",
    "    retMap = {\n",
    "        'bool': 'boolean',\n",
    "        'int': 'integer',\n",
    "        'string': 'string',\n",
    "        'void': 'void',\n",
    "    }\n",
    "    \n",
    "    N[i] = [*N[i], retMap[N[i][1]]]\n",
    "    \n",
    "    \n",
    "N"
   ]
  },
  {
   "cell_type": "code",
   "execution_count": null,
   "id": "b92328fc-6cdb-472d-8219-913eb4cf4c2a",
   "metadata": {},
   "outputs": [],
   "source": []
  }
 ],
 "metadata": {
  "kernelspec": {
   "display_name": "Python 3 (ipykernel)",
   "language": "python",
   "name": "python3"
  },
  "language_info": {
   "codemirror_mode": {
    "name": "ipython",
    "version": 3
   },
   "file_extension": ".py",
   "mimetype": "text/x-python",
   "name": "python",
   "nbconvert_exporter": "python",
   "pygments_lexer": "ipython3",
   "version": "3.10.5"
  }
 },
 "nbformat": 4,
 "nbformat_minor": 5
}
